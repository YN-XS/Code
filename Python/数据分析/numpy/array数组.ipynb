{
 "cells": [
  {
   "cell_type": "markdown",
   "id": "f940ed37",
   "metadata": {},
   "source": [
    "# array数组"
   ]
  },
  {
   "cell_type": "code",
   "execution_count": 4,
   "id": "1aa76fec",
   "metadata": {},
   "outputs": [],
   "source": [
    "import numpy as np"
   ]
  },
  {
   "cell_type": "markdown",
   "id": "08587d85",
   "metadata": {},
   "source": [
    "#### 对于ndarray类型，里面元素必须统一类型，如果不是，会自动向下进行转换"
   ]
  },
  {
   "cell_type": "code",
   "execution_count": 5,
   "id": "ec45e7a6",
   "metadata": {},
   "outputs": [
    {
     "data": {
      "text/plain": [
       "array([1, 2, 3, 4])"
      ]
     },
     "execution_count": 5,
     "metadata": {},
     "output_type": "execute_result"
    }
   ],
   "source": [
    "list_info = [1,2,3,4]\n",
    "array_info = np.array(list_info)\n",
    "array_info"
   ]
  },
  {
   "cell_type": "code",
   "execution_count": 6,
   "id": "8b53d78d",
   "metadata": {},
   "outputs": [
    {
     "name": "stdout",
     "output_type": "stream",
     "text": [
      "<class 'list'> <class 'numpy.ndarray'>\n"
     ]
    }
   ],
   "source": [
    "print(type(list_info),type(array_info))"
   ]
  },
  {
   "cell_type": "markdown",
   "id": "d0f90159",
   "metadata": {},
   "source": [
    "#### ndarray的属性"
   ]
  },
  {
   "cell_type": "code",
   "execution_count": 7,
   "id": "fb3a8dcb",
   "metadata": {},
   "outputs": [
    {
     "name": "stdout",
     "output_type": "stream",
     "text": [
      "[1 2 3 4] int32\n"
     ]
    }
   ],
   "source": [
    "print(array_info,array_info.dtype,sep = \" \")"
   ]
  },
  {
   "cell_type": "code",
   "execution_count": 8,
   "id": "674581e4",
   "metadata": {},
   "outputs": [
    {
     "name": "stdout",
     "output_type": "stream",
     "text": [
      "[1. 2. 3. 4.] float64\n",
      "['1' '2' '3' '4'] <U11\n"
     ]
    }
   ],
   "source": [
    "array1 = np.array([1,2,3,4.0])\n",
    "array2 = np.array([1,2,3,\"4\"])\n",
    "print(array1,array1.dtype,sep = \" \")\n",
    "print(array2,array2.dtype,sep = \" \")"
   ]
  },
  {
   "cell_type": "code",
   "execution_count": 9,
   "id": "15db9d87",
   "metadata": {},
   "outputs": [
    {
     "data": {
      "text/plain": [
       "array([1, 2, 3, 4])"
      ]
     },
     "execution_count": 9,
     "metadata": {},
     "output_type": "execute_result"
    }
   ],
   "source": [
    "array_info"
   ]
  },
  {
   "cell_type": "code",
   "execution_count": 11,
   "id": "1be3844d",
   "metadata": {},
   "outputs": [
    {
     "data": {
      "text/plain": [
       "4"
      ]
     },
     "execution_count": 11,
     "metadata": {},
     "output_type": "execute_result"
    }
   ],
   "source": [
    "array_info.itemsize"
   ]
  },
  {
   "cell_type": "code",
   "execution_count": 12,
   "id": "6ebc85ea",
   "metadata": {},
   "outputs": [
    {
     "data": {
      "text/plain": [
       "4"
      ]
     },
     "execution_count": 12,
     "metadata": {},
     "output_type": "execute_result"
    }
   ],
   "source": [
    "array_info.size"
   ]
  },
  {
   "cell_type": "code",
   "execution_count": 13,
   "id": "19bd8c1f",
   "metadata": {},
   "outputs": [
    {
     "data": {
      "text/plain": [
       "(4,)"
      ]
     },
     "execution_count": 13,
     "metadata": {},
     "output_type": "execute_result"
    }
   ],
   "source": [
    "array_info.shape"
   ]
  },
  {
   "cell_type": "code",
   "execution_count": 14,
   "id": "641b268e",
   "metadata": {},
   "outputs": [
    {
     "data": {
      "text/plain": [
       "1"
      ]
     },
     "execution_count": 14,
     "metadata": {},
     "output_type": "execute_result"
    }
   ],
   "source": [
    "array_info.ndim"
   ]
  },
  {
   "cell_type": "code",
   "execution_count": 17,
   "id": "929d5f48",
   "metadata": {},
   "outputs": [
    {
     "data": {
      "text/plain": [
       "array([0, 0, 0, 0])"
      ]
     },
     "execution_count": 17,
     "metadata": {},
     "output_type": "execute_result"
    }
   ],
   "source": [
    "array_info.fill(0)\n",
    "array_info"
   ]
  },
  {
   "cell_type": "markdown",
   "id": "9eb26b15",
   "metadata": {},
   "source": [
    "#### 索引与切片：和python一样"
   ]
  },
  {
   "cell_type": "code",
   "execution_count": 24,
   "id": "379ac758",
   "metadata": {},
   "outputs": [
    {
     "data": {
      "text/plain": [
       "array([1, 2, 3, 4])"
      ]
     },
     "execution_count": 24,
     "metadata": {},
     "output_type": "execute_result"
    }
   ],
   "source": [
    "list_info = [1,2,3,4]\n",
    "array = np.array(list_info)\n",
    "array"
   ]
  },
  {
   "cell_type": "code",
   "execution_count": 25,
   "id": "38590a76",
   "metadata": {},
   "outputs": [
    {
     "data": {
      "text/plain": [
       "1"
      ]
     },
     "execution_count": 25,
     "metadata": {},
     "output_type": "execute_result"
    }
   ],
   "source": [
    "array[0]"
   ]
  },
  {
   "cell_type": "code",
   "execution_count": 26,
   "id": "824c69d9",
   "metadata": {},
   "outputs": [
    {
     "data": {
      "text/plain": [
       "array([1, 2, 3, 4])"
      ]
     },
     "execution_count": 26,
     "metadata": {},
     "output_type": "execute_result"
    }
   ],
   "source": [
    "array[::]"
   ]
  },
  {
   "cell_type": "markdown",
   "id": "d94ab4d7",
   "metadata": {},
   "source": [
    "#### 矩阵（多维的形式）"
   ]
  },
  {
   "cell_type": "code",
   "execution_count": 28,
   "id": "dfc7946f",
   "metadata": {},
   "outputs": [
    {
     "data": {
      "text/plain": [
       "array([[1, 2, 3],\n",
       "       [4, 5, 6],\n",
       "       [7, 8, 9]])"
      ]
     },
     "execution_count": 28,
     "metadata": {},
     "output_type": "execute_result"
    }
   ],
   "source": [
    "array = np.array([[1,2,3],\n",
    "                [4,5,6],\n",
    "                [7,8,9]])\n",
    "array"
   ]
  },
  {
   "cell_type": "code",
   "execution_count": 29,
   "id": "d59c11bb",
   "metadata": {},
   "outputs": [
    {
     "data": {
      "text/plain": [
       "2"
      ]
     },
     "execution_count": 29,
     "metadata": {},
     "output_type": "execute_result"
    }
   ],
   "source": [
    "array.ndim"
   ]
  },
  {
   "cell_type": "code",
   "execution_count": 30,
   "id": "44878ff3",
   "metadata": {},
   "outputs": [
    {
     "data": {
      "text/plain": [
       "(3, 3)"
      ]
     },
     "execution_count": 30,
     "metadata": {},
     "output_type": "execute_result"
    }
   ],
   "source": [
    "array.shape"
   ]
  },
  {
   "cell_type": "code",
   "execution_count": 31,
   "id": "93326a1b",
   "metadata": {},
   "outputs": [
    {
     "data": {
      "text/plain": [
       "9"
      ]
     },
     "execution_count": 31,
     "metadata": {},
     "output_type": "execute_result"
    }
   ],
   "source": [
    "array.size"
   ]
  },
  {
   "cell_type": "code",
   "execution_count": 37,
   "id": "5004ceb9",
   "metadata": {},
   "outputs": [
    {
     "name": "stdout",
     "output_type": "stream",
     "text": [
      "5\n"
     ]
    }
   ],
   "source": [
    "print(array[1,1])"
   ]
  },
  {
   "cell_type": "code",
   "execution_count": 41,
   "id": "62c22d73",
   "metadata": {},
   "outputs": [
    {
     "data": {
      "text/plain": [
       "array([2, 5, 8])"
      ]
     },
     "execution_count": 41,
     "metadata": {},
     "output_type": "execute_result"
    }
   ],
   "source": [
    "array[:,1]"
   ]
  },
  {
   "cell_type": "code",
   "execution_count": 42,
   "id": "baf67e7f",
   "metadata": {},
   "outputs": [
    {
     "data": {
      "text/plain": [
       "array([1, 2])"
      ]
     },
     "execution_count": 42,
     "metadata": {},
     "output_type": "execute_result"
    }
   ],
   "source": [
    "array[0,0:2]"
   ]
  },
  {
   "cell_type": "code",
   "execution_count": 43,
   "id": "0e6efba5",
   "metadata": {},
   "outputs": [],
   "source": [
    "array2 = array.copy()"
   ]
  },
  {
   "cell_type": "code",
   "execution_count": 47,
   "id": "89bb1b1b",
   "metadata": {},
   "outputs": [
    {
     "data": {
      "text/plain": [
       "array([[1, 2, 3],\n",
       "       [4, 5, 6],\n",
       "       [7, 8, 9]])"
      ]
     },
     "execution_count": 47,
     "metadata": {},
     "output_type": "execute_result"
    }
   ],
   "source": [
    "array"
   ]
  },
  {
   "cell_type": "code",
   "execution_count": 49,
   "id": "64fbf5f1",
   "metadata": {},
   "outputs": [
    {
     "data": {
      "text/plain": [
       "array([[ 1,  2,  3],\n",
       "       [ 4, 10,  6],\n",
       "       [ 7,  8,  9]])"
      ]
     },
     "execution_count": 49,
     "metadata": {},
     "output_type": "execute_result"
    }
   ],
   "source": [
    "array2"
   ]
  },
  {
   "cell_type": "code",
   "execution_count": 57,
   "id": "b146e1d8",
   "metadata": {},
   "outputs": [
    {
     "data": {
      "text/plain": [
       "array([10, 20, 30, 40, 50, 60, 70, 80, 90])"
      ]
     },
     "execution_count": 57,
     "metadata": {},
     "output_type": "execute_result"
    }
   ],
   "source": [
    "array3 = np.arange(10,100,10)\n",
    "array3"
   ]
  },
  {
   "cell_type": "markdown",
   "id": "f17f1c2f",
   "metadata": {},
   "source": [
    "#### bool类型数组以及bool数组索引"
   ]
  },
  {
   "cell_type": "code",
   "execution_count": 56,
   "id": "b66fa2f2",
   "metadata": {},
   "outputs": [
    {
     "data": {
      "text/plain": [
       "array([False,  True,  True, False,  True, False, False,  True,  True])"
      ]
     },
     "execution_count": 56,
     "metadata": {},
     "output_type": "execute_result"
    }
   ],
   "source": [
    "array_bool = np.array([0,1,1,0,2,0,0,2,4],dtype=bool)\n",
    "array_bool"
   ]
  },
  {
   "cell_type": "code",
   "execution_count": 58,
   "id": "3efa7c55",
   "metadata": {},
   "outputs": [
    {
     "data": {
      "text/plain": [
       "array([20, 30, 50, 80, 90])"
      ]
     },
     "execution_count": 58,
     "metadata": {},
     "output_type": "execute_result"
    }
   ],
   "source": [
    "array3[array_bool]"
   ]
  },
  {
   "cell_type": "code",
   "execution_count": 85,
   "id": "7c799cb2",
   "metadata": {},
   "outputs": [
    {
     "data": {
      "text/plain": [
       "array([0.68617569, 0.39647938, 0.74502439])"
      ]
     },
     "execution_count": 85,
     "metadata": {},
     "output_type": "execute_result"
    }
   ],
   "source": [
    "array = np.random.random(3)\n",
    "array"
   ]
  },
  {
   "cell_type": "code",
   "execution_count": 86,
   "id": "a46aeda4",
   "metadata": {},
   "outputs": [],
   "source": [
    "array_flag = array > 0.5"
   ]
  },
  {
   "cell_type": "code",
   "execution_count": 87,
   "id": "0944fe0b",
   "metadata": {},
   "outputs": [
    {
     "data": {
      "text/plain": [
       "array([ True, False,  True])"
      ]
     },
     "execution_count": 87,
     "metadata": {},
     "output_type": "execute_result"
    }
   ],
   "source": [
    "array_flag"
   ]
  },
  {
   "cell_type": "code",
   "execution_count": 88,
   "id": "89308a75",
   "metadata": {},
   "outputs": [
    {
     "data": {
      "text/plain": [
       "array([0.68617569, 0.74502439])"
      ]
     },
     "execution_count": 88,
     "metadata": {},
     "output_type": "execute_result"
    }
   ],
   "source": [
    "array[array_flag]"
   ]
  },
  {
   "cell_type": "code",
   "execution_count": 90,
   "id": "256a8639",
   "metadata": {},
   "outputs": [
    {
     "data": {
      "text/plain": [
       "(array([0, 2], dtype=int64),)"
      ]
     },
     "execution_count": 90,
     "metadata": {},
     "output_type": "execute_result"
    }
   ],
   "source": [
    "np.where(array>0.5)"
   ]
  },
  {
   "cell_type": "code",
   "execution_count": null,
   "id": "aa351fb7",
   "metadata": {},
   "outputs": [],
   "source": []
  }
 ],
 "metadata": {
  "kernelspec": {
   "display_name": "Python 3 (ipykernel)",
   "language": "python",
   "name": "python3"
  },
  "language_info": {
   "codemirror_mode": {
    "name": "ipython",
    "version": 3
   },
   "file_extension": ".py",
   "mimetype": "text/x-python",
   "name": "python",
   "nbconvert_exporter": "python",
   "pygments_lexer": "ipython3",
   "version": "3.9.7"
  }
 },
 "nbformat": 4,
 "nbformat_minor": 5
}
