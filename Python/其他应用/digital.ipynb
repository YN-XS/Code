{
 "cells": [
  {
   "cell_type": "code",
   "execution_count": null,
   "id": "7522ca6e-46e9-41de-8fce-9e353e267b61",
   "metadata": {},
   "outputs": [],
   "source": [
    "#数字"
   ]
  },
  {
   "cell_type": "code",
   "execution_count": 28,
   "id": "6718239b-368b-4402-afbf-8f381484ff92",
   "metadata": {},
   "outputs": [
    {
     "name": "stdout",
     "output_type": "stream",
     "text": [
      "16\n",
      "16\n"
     ]
    }
   ],
   "source": [
    "a, b = 2, 4\n",
    "print(a**b)\n",
    "\n",
    "print(pow(a,b))"
   ]
  },
  {
   "cell_type": "code",
   "execution_count": 8,
   "id": "d715ded1-7215-466e-8ede-4523b5b8cc70",
   "metadata": {},
   "outputs": [
    {
     "data": {
      "text/plain": [
       "1.5"
      ]
     },
     "execution_count": 8,
     "metadata": {},
     "output_type": "execute_result"
    }
   ],
   "source": [
    "abs(-1.5)"
   ]
  },
  {
   "cell_type": "code",
   "execution_count": 10,
   "id": "15d31099-d634-43b1-864b-64ecd04c5796",
   "metadata": {},
   "outputs": [
    {
     "name": "stdout",
     "output_type": "stream",
     "text": [
      "3.14\n"
     ]
    },
    {
     "data": {
      "text/plain": [
       "'四舍五入，保留两位小数round(浮点数，保留小数位数)'"
      ]
     },
     "execution_count": 10,
     "metadata": {},
     "output_type": "execute_result"
    }
   ],
   "source": [
    "print(round(3.1415926,2))\n",
    "'四舍五入，保留两位小数round(浮点数，保留小数位数)'"
   ]
  },
  {
   "cell_type": "code",
   "execution_count": 23,
   "id": "217e12e7-6008-4e5d-abd5-78b7e0a55260",
   "metadata": {},
   "outputs": [
    {
     "name": "stdout",
     "output_type": "stream",
     "text": [
      "0xa <class 'str'>\n"
     ]
    }
   ],
   "source": [
    "num = hex(10)\n",
    "print(num,type(num))\n",
    "#将十进制整数转换为十六进制数的字符串"
   ]
  },
  {
   "cell_type": "code",
   "execution_count": 25,
   "id": "fc1bc3d4-e31c-4e88-9f8a-536d3a95fbde",
   "metadata": {},
   "outputs": [
    {
     "name": "stdout",
     "output_type": "stream",
     "text": [
      "0o12 <class 'str'>\n"
     ]
    }
   ],
   "source": [
    "num = oct(10)\n",
    "print(num,type(num))\n",
    "#将十进制整数转换为八进制数的字符串"
   ]
  },
  {
   "cell_type": "code",
   "execution_count": 26,
   "id": "bbcf9a5e-7254-409e-8c34-83c36a963857",
   "metadata": {},
   "outputs": [
    {
     "name": "stdout",
     "output_type": "stream",
     "text": [
      "A <class 'str'>\n"
     ]
    }
   ],
   "source": [
    "s1 =  chr(65)\n",
    "print(s1,type(s1))\n",
    "#将一个Unicode码（整数）转换为其对应的Unicode字符（字符串）"
   ]
  },
  {
   "cell_type": "code",
   "execution_count": null,
   "id": "d8d41017-ad5c-469f-b7ef-4d6005bc868a",
   "metadata": {},
   "outputs": [],
   "source": [
    "s2 = ord(\"杨\")\n",
    "print(s2,type(s2))\n",
    "#将Unicode字符（字符串）转换为对应的Unicode码（整数）"
   ]
  },
  {
   "cell_type": "code",
   "execution_count": 2,
   "id": "30d42d28-1fbf-4001-bfea-9f19c846bd8e",
   "metadata": {},
   "outputs": [
    {
     "data": {
      "text/plain": [
       "(4, 0)"
      ]
     },
     "execution_count": 2,
     "metadata": {},
     "output_type": "execute_result"
    }
   ],
   "source": [
    "divmod(100,25)\n",
    "#得到商和余数"
   ]
  },
  {
   "cell_type": "code",
   "execution_count": 4,
   "id": "55b4c74e-c375-4ee1-8a5f-9bebdb0b5301",
   "metadata": {},
   "outputs": [],
   "source": [
    "#类型强制转换"
   ]
  },
  {
   "cell_type": "code",
   "execution_count": 12,
   "id": "b0e2074d-e981-49a4-879a-38579f2b6af4",
   "metadata": {},
   "outputs": [
    {
     "name": "stdout",
     "output_type": "stream",
     "text": [
      "3 3\n"
     ]
    }
   ],
   "source": [
    "a = int(\"3\")\n",
    "b = int(3.5)\n",
    "print(a,b,sep = ' ')\n",
    "#将字符串转换为整数类型，字符串必须是整数的字符串\n",
    "#将浮点数取整，直接去掉小数部分即可"
   ]
  },
  {
   "cell_type": "code",
   "execution_count": 9,
   "id": "ac8422a3-eeb9-4c41-bce7-70d245559c53",
   "metadata": {},
   "outputs": [
    {
     "name": "stdout",
     "output_type": "stream",
     "text": [
      "3.0\n",
      "3.5\n",
      "4.0\n"
     ]
    }
   ],
   "source": [
    "a = float(\"3\")\n",
    "b = float(\"3.5\")\n",
    "c = float(4)\n",
    "print(a,b,c,sep = '\\n')"
   ]
  },
  {
   "cell_type": "code",
   "execution_count": 30,
   "id": "6cc22270-14f4-4422-bef9-60a57f9524c1",
   "metadata": {},
   "outputs": [
    {
     "name": "stdout",
     "output_type": "stream",
     "text": [
      "(1+3j)\n",
      "(3+0j)\n",
      "(4+0j)\n"
     ]
    }
   ],
   "source": [
    "a = complex(1,3)\n",
    "b = complex(3,0)\n",
    "c = complex(4)\n",
    "print(a,b,c,sep = \"\\n\")\n",
    "#即使虚数部分为0，j也不能被省略"
   ]
  },
  {
   "cell_type": "code",
   "execution_count": 16,
   "id": "ef0ef361-12e1-4000-aeba-d4915826f703",
   "metadata": {},
   "outputs": [],
   "source": []
  },
  {
   "cell_type": "code",
   "execution_count": 16,
   "id": "b60f7d28-58e3-4602-9e59-ca39737572a3",
   "metadata": {},
   "outputs": [
    {
     "data": {
      "text/plain": [
       "1"
      ]
     },
     "execution_count": 16,
     "metadata": {},
     "output_type": "execute_result"
    }
   ],
   "source": [
    "True + False"
   ]
  },
  {
   "cell_type": "code",
   "execution_count": 5,
   "id": "69d4699c-06e0-45b6-a1fe-f2ae6bcb4b28",
   "metadata": {},
   "outputs": [
    {
     "name": "stdout",
     "output_type": "stream",
     "text": [
      "False\n",
      "True\n",
      "True\n",
      "True\n"
     ]
    },
    {
     "data": {
      "text/plain": [
       "'浮点数加法存在不确定尾数'"
      ]
     },
     "execution_count": 5,
     "metadata": {},
     "output_type": "execute_result"
    }
   ],
   "source": [
    "a = 0.1+0.2==0.3\n",
    "b = 0.4-0.2==0.2\n",
    "c = 0.2*0.3==0.06\n",
    "d = 0.4/0.2==2\n",
    "print(a,b,c,d,sep = '\\n')\n",
    "'浮点数加法存在不确定尾数'"
   ]
  },
  {
   "cell_type": "code",
   "execution_count": 29,
   "id": "5fe7418d-d6d1-48e1-bce7-3455530c507a",
   "metadata": {},
   "outputs": [
    {
     "name": "stdout",
     "output_type": "stream",
     "text": [
      "25000.0\n",
      "0.00025\n"
     ]
    }
   ],
   "source": [
    "a = 2.5e4\n",
    "b = 2.5E-4\n",
    "print(a,b,sep = '\\n')"
   ]
  },
  {
   "cell_type": "code",
   "execution_count": 7,
   "id": "ed4de184-afdf-4008-af33-e5aa4af163b3",
   "metadata": {},
   "outputs": [
    {
     "name": "stdin",
     "output_type": "stream",
     "text": [
      " 1\n"
     ]
    },
    {
     "name": "stdout",
     "output_type": "stream",
     "text": [
      "45\n",
      "25\n",
      "1\n"
     ]
    },
    {
     "data": {
      "text/plain": [
       "'!!!注意range()函数顾首不顾尾哦，所以a 和 b加不到 '"
      ]
     },
     "execution_count": 7,
     "metadata": {},
     "output_type": "execute_result"
    }
   ],
   "source": [
    "a = sum(range(1,10))\n",
    "b = sum(range(1,10,2))\n",
    "c = sum(range(1,int(input())+1))\n",
    "print(a,b,c,sep = '\\n')\n",
    "'!!!注意range()函数顾首不顾尾哦，所以a 和 b加不到 '"
   ]
  }
 ],
 "metadata": {
  "kernelspec": {
   "display_name": "Python 3 (ipykernel)",
   "language": "python",
   "name": "python3"
  },
  "language_info": {
   "codemirror_mode": {
    "name": "ipython",
    "version": 3
   },
   "file_extension": ".py",
   "mimetype": "text/x-python",
   "name": "python",
   "nbconvert_exporter": "python",
   "pygments_lexer": "ipython3",
   "version": "3.8.5"
  }
 },
 "nbformat": 4,
 "nbformat_minor": 5
}
