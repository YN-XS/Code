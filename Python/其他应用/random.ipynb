{
 "cells": [
  {
   "cell_type": "code",
   "execution_count": null,
   "id": "617a3ef2-9620-499b-8ea7-aa1060a49a7b",
   "metadata": {},
   "outputs": [],
   "source": [
    "#random库  梅森旋转法"
   ]
  },
  {
   "cell_type": "code",
   "execution_count": 26,
   "id": "e39d6d37-0170-4096-9ded-23d6c7b97282",
   "metadata": {},
   "outputs": [],
   "source": [
    "import random"
   ]
  },
  {
   "cell_type": "code",
   "execution_count": 27,
   "id": "b3fb1c79-7f63-4e9e-8c44-f33c37cdeab7",
   "metadata": {},
   "outputs": [],
   "source": [
    "random.seed(100)   #随机数种子"
   ]
  },
  {
   "cell_type": "code",
   "execution_count": 28,
   "id": "45e81666-35f0-4aa0-a8b8-dd1b14ad4f88",
   "metadata": {},
   "outputs": [
    {
     "data": {
      "text/plain": [
       "0.1456692551041303"
      ]
     },
     "execution_count": 28,
     "metadata": {},
     "output_type": "execute_result"
    }
   ],
   "source": [
    "random.random()\n",
    "#随机产生一个（0，1）的小数，开区间，取不到 0 和 1"
   ]
  },
  {
   "cell_type": "code",
   "execution_count": 29,
   "id": "f036bb6c-45b1-4950-b528-1660c4b5b162",
   "metadata": {},
   "outputs": [
    {
     "data": {
      "text/plain": [
       "72.74635022570106"
      ]
     },
     "execution_count": 29,
     "metadata": {},
     "output_type": "execute_result"
    }
   ],
   "source": [
    "random.uniform(50,100)\n",
    "#随机产生一个（50，100）之间的小数，开区间，娶不到 50和 100"
   ]
  },
  {
   "cell_type": "code",
   "execution_count": 30,
   "id": "76f46c07-926b-4017-84b6-c18e0eb56a63",
   "metadata": {},
   "outputs": [
    {
     "data": {
      "text/plain": [
       "789"
      ]
     },
     "execution_count": 30,
     "metadata": {},
     "output_type": "execute_result"
    }
   ],
   "source": [
    "random.randint(0,1000)\n",
    "#随机产生一个[0,1000]的整数，闭区间，可以取到 0和 1000"
   ]
  },
  {
   "cell_type": "code",
   "execution_count": 31,
   "id": "8dcc2b01-4274-4e0a-aa03-65864f1e5c64",
   "metadata": {},
   "outputs": [
    {
     "data": {
      "text/plain": [
       "30"
      ]
     },
     "execution_count": 50,
     "metadata": {},
     "output_type": "execute_result"
    }
   ],
   "source": [
    "random.randrange(0,100,5)\n",
    "#以5为步长，随机产生从[0,100)的整数，左闭又开！！！"
   ]
  },
  {
   "cell_type": "code",
   "execution_count": null,
   "id": "59114a60-8e58-4b7c-81b4-ed34d40a07eb",
   "metadata": {},
   "outputs": [
    {
     "data": {
      "text/plain": [
       "3"
      ]
     },
     "execution_count": 57,
     "metadata": {},
     "output_type": "execute_result"
    }
   ],
   "source": [
    "random.getrandbits(4)\n",
    "#产生一定比特长的整数（一字节==八比特）"
   ]
  },
  {
   "cell_type": "code",
   "execution_count": 70,
   "id": "ab190846-b229-41d9-94b5-e59300fe7834",
   "metadata": {},
   "outputs": [
    {
     "name": "stdout",
     "output_type": "stream",
     "text": [
      "n 2 30\n"
     ]
    }
   ],
   "source": [
    "s1 = random.choice(\"jiangzijun\")\n",
    "s2 = random.choice([2,4,6,8])\n",
    "s3 = random.choice((10,20,30,))\n",
    "print(s1,s2,s3)\n",
    "#从一个序列中随机挑选一个元素"
   ]
  },
  {
   "cell_type": "code",
   "execution_count": 82,
   "id": "ba2782ac-07ce-4aca-aec7-0dc631525b69",
   "metadata": {},
   "outputs": [
    {
     "name": "stdout",
     "output_type": "stream",
     "text": [
      "None\n",
      "['shu', 'zi', 'yang', 'jun', 'jiang']\n"
     ]
    }
   ],
   "source": [
    "s1 = [\"jiang\",\"zi\",\"jun\",\"yang\",\"shu\"]\n",
    "s4 = random.shuffle(s1)\n",
    "#将原来的列表打乱，只是打乱原来的列表，语句本身并没有返回值\n",
    "print(s4)   #语句本身没有返回值\n",
    "print(s1)   #原来的列表被打乱  ！！只可以是列表类型！！"
   ]
  },
  {
   "cell_type": "code",
   "execution_count": 91,
   "id": "81ebe8b2-5fe7-499a-b602-26525f01360c",
   "metadata": {},
   "outputs": [
    {
     "name": "stdout",
     "output_type": "stream",
     "text": [
      "[30, 60, 50, 10]\n"
     ]
    }
   ],
   "source": [
    "ls = {10,20,30,40,50,60}\n",
    "print(random.sample(ls,4))\n",
    "# 从（字典除外以）的指定组合数据（集合，列表，元组，字符串）中随机选择指定数量元素组成的列表，返回一个列表  random.samole(组合数据，选取数量)"
   ]
  },
  {
   "cell_type": "code",
   "execution_count": null,
   "id": "9d3c8d19-ad49-457b-aeb6-26c62542ae99",
   "metadata": {},
   "outputs": [],
   "source": []
  }
 ],
 "metadata": {
  "kernelspec": {
   "display_name": "Python 3 (ipykernel)",
   "language": "python",
   "name": "python3"
  },
  "language_info": {
   "codemirror_mode": {
    "name": "ipython",
    "version": 3
   },
   "file_extension": ".py",
   "mimetype": "text/x-python",
   "name": "python",
   "nbconvert_exporter": "python",
   "pygments_lexer": "ipython3",
   "version": "3.8.5"
  }
 },
 "nbformat": 4,
 "nbformat_minor": 5
}
