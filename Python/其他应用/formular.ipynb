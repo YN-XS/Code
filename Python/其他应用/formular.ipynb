{
 "cells": [
  {
   "cell_type": "code",
   "execution_count": null,
   "id": "de62ea9f-5fbc-4b66-b5b6-bd775818fcd2",
   "metadata": {},
   "outputs": [],
   "source": [
    "#求 1!+2!+3!+...+n!"
   ]
  },
  {
   "cell_type": "code",
   "execution_count": 1,
   "id": "46ea649c-1210-43d4-97e0-5f2183cad312",
   "metadata": {},
   "outputs": [
    {
     "name": "stdout",
     "output_type": "stream",
     "text": [
      "3\n"
     ]
    }
   ],
   "source": [
    "'''\n",
    "First\n",
    "'''\n",
    "n = eval(input())\n",
    "s = 0\n",
    "for i in range(1,n+1):\n",
    "    d = 1\n",
    "    for j in range(1,i+1):\n",
    "        d = d * j\n",
    "    s = s + d\n",
    "print(s)"
   ]
  },
  {
   "cell_type": "code",
   "execution_count": 2,
   "id": "db352898-a9a8-482c-a78a-84d00d230f3b",
   "metadata": {},
   "outputs": [
    {
     "name": "stdout",
     "output_type": "stream",
     "text": [
      "4037913\n"
     ]
    }
   ],
   "source": [
    "'''\n",
    "Second\n",
    "'''\n",
    "def jc1(n):\n",
    "    i = 1\n",
    "    for j in range(1,n+1):\n",
    "        i = i * j\n",
    "    return i\n",
    "def jc2(n):\n",
    "    s = 0\n",
    "    for i in range(1,n+1):\n",
    "        s+=jc1(i)\n",
    "    return s\n",
    "\n",
    "n = eval(input())\n",
    "print(jc2(n))"
   ]
  },
  {
   "cell_type": "code",
   "execution_count": 4,
   "id": "1e381f74-d4a1-4109-88bb-8ea3dfe4d143",
   "metadata": {},
   "outputs": [
    {
     "name": "stdout",
     "output_type": "stream",
     "text": [
      "20 10\n"
     ]
    }
   ],
   "source": [
    "'多个变量同时赋值，不用再用其他变量寄存原先的值'\n",
    "i = 10\n",
    "j = 20\n",
    "i,j = j,i\n",
    "print(i,j)"
   ]
  },
  {
   "cell_type": "code",
   "execution_count": 5,
   "id": "1e3c9811-ec81-46b5-bce3-87a06c8e288f",
   "metadata": {},
   "outputs": [
    {
     "name": "stdout",
     "output_type": "stream",
     "text": [
      " 10\n"
     ]
    },
    {
     "name": "stdout",
     "output_type": "stream",
     "text": [
      "16.48\n"
     ]
    }
   ],
   "source": [
    "'2/1 + 3/2 + 5/3 +...'\n",
    "n = eval(input())\n",
    "i = 1\n",
    "j = 2\n",
    "s = 0\n",
    "for k in range(n):\n",
    "    s = s + j/i\n",
    "    j,i=i+j,j\n",
    "print(round(s,3))"
   ]
  },
  {
   "cell_type": "code",
   "execution_count": 8,
   "id": "9150dc1f-67d3-4860-b68f-60964b19f7c1",
   "metadata": {},
   "outputs": [
    {
     "name": "stdout",
     "output_type": "stream",
     "text": [
      " 3\n"
     ]
    },
    {
     "name": "stdout",
     "output_type": "stream",
     "text": [
      "136\n"
     ]
    }
   ],
   "source": [
    "'1+12+123+1234+12345+...+1234567...n'\n",
    "n = eval(input())\n",
    "def f(n):\n",
    "    s = 0\n",
    "    j = 1\n",
    "    while(n):\n",
    "        s = s + j*pow(10,n-1)\n",
    "        j+=1\n",
    "        n=n-1\n",
    "    return s\n",
    "l = 0\n",
    "for i in range(1,n+1):\n",
    "    l = l+f(i)\n",
    "print(l)"
   ]
  },
  {
   "cell_type": "code",
   "execution_count": 1,
   "id": "ad3c6002-e243-4a5a-aed2-37fff397f9b4",
   "metadata": {},
   "outputs": [
    {
     "name": "stdout",
     "output_type": "stream",
     "text": [
      "4 18 78\n",
      "8 11 81\n",
      "12 4 84\n"
     ]
    }
   ],
   "source": [
    "'百元买百鸡 —— 公鸡五元一只，母鸡三元一只，小鸡一元三只'\n",
    "for i in range(1,101):\n",
    "    for j in range(1,101):\n",
    "        for k in range(1,101):\n",
    "            if i*5+j*3+k*1/3==100 and i+j+k==100:\n",
    "                print(\"{} {} {}\".format(i,j,k))"
   ]
  },
  {
   "cell_type": "code",
   "execution_count": null,
   "id": "ee4bf590-7a92-47cc-91bc-4c5446c0c222",
   "metadata": {},
   "outputs": [],
   "source": [
    "'输入 年/月/日 格式的字符串'\n",
    "n = input()\n",
    "n = n.split(\"/\")\n",
    "ls = [31,28,31,30,31,30,31,31,30,31,30,31]\n",
    "if eval(n[0])%4==0 and eval(n[0])%100!=0 or eval(n[0])%400==0:\n",
    "    ls[1] = 29\n",
    "s = 0\n",
    "for i in range(eval(n[1])-1):\n",
    "    s+=ls[i]\n",
    "s = s + eval(n[2])\n",
    "print(\"{}年{}月{}日是{}年第{}天\".format(n[0],n[1],n[2],n[0],s))"
   ]
  }
 ],
 "metadata": {
  "kernelspec": {
   "display_name": "Python 3.7.13 ('Hanlp')",
   "language": "python",
   "name": "python3"
  },
  "language_info": {
   "codemirror_mode": {
    "name": "ipython",
    "version": 3
   },
   "file_extension": ".py",
   "mimetype": "text/x-python",
   "name": "python",
   "nbconvert_exporter": "python",
   "pygments_lexer": "ipython3",
   "version": "3.7.13"
  },
  "vscode": {
   "interpreter": {
    "hash": "9853e96883597b8ee9d91daa14dfc43df25cdd868b8171bc886425c7701b017a"
   }
  }
 },
 "nbformat": 4,
 "nbformat_minor": 5
}
