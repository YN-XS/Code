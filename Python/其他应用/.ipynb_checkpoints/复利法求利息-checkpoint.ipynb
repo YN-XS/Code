{
 "cells": [
  {
   "cell_type": "code",
   "execution_count": null,
   "id": "0010812d-e7a7-4fa7-98e2-8a3dbab22bbd",
   "metadata": {},
   "outputs": [],
   "source": [
    "#复利法求利息\n",
    "#每年都会结算利息，并将利息加入到本金中，第二年的本金会加上第一年的利息\n",
    "#每一年的本金都会额外加上上一年的利息\n",
    "#最后再将所得金减去本金，便是所有的利息"
   ]
  },
  {
   "cell_type": "code",
   "execution_count": 2,
   "id": "64a508e9-2fff-437d-b18b-4934b98936ba",
   "metadata": {},
   "outputs": [
    {
     "name": "stdin",
     "output_type": "stream",
     "text": [
      " 1000\n",
      " 10\n",
      " 0.02\n"
     ]
    },
    {
     "name": "stdout",
     "output_type": "stream",
     "text": [
      "利息=218.99\n"
     ]
    }
   ],
   "source": [
    "bj = int(input())\n",
    "t = int(input())\n",
    "lx = eval(input())\n",
    "s = 0\n",
    "print(\"利息={:.2f}\".format(bj*pow(1+lx,t)-bj))"
   ]
  }
 ],
 "metadata": {
  "kernelspec": {
   "display_name": "Python 3 (ipykernel)",
   "language": "python",
   "name": "python3"
  },
  "language_info": {
   "codemirror_mode": {
    "name": "ipython",
    "version": 3
   },
   "file_extension": ".py",
   "mimetype": "text/x-python",
   "name": "python",
   "nbconvert_exporter": "python",
   "pygments_lexer": "ipython3",
   "version": "3.8.5"
  }
 },
 "nbformat": 4,
 "nbformat_minor": 5
}
