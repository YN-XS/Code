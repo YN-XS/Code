{
 "cells": [
  {
   "cell_type": "code",
   "execution_count": null,
   "id": "709b0ca5-e43e-4712-8575-52c24ecb5ec7",
   "metadata": {},
   "outputs": [],
   "source": [
    "#jieba库  （三种分词模式，都是返回以分词（字符串）为元素的列表）"
   ]
  },
  {
   "cell_type": "code",
   "execution_count": null,
   "id": "7145f394-2740-4748-8dd8-4db8f044446d",
   "metadata": {},
   "outputs": [],
   "source": [
    "import jieba"
   ]
  },
  {
   "cell_type": "code",
   "execution_count": 16,
   "id": "0864a606-260c-4764-ab65-48a6164f2705",
   "metadata": {},
   "outputs": [],
   "source": [
    "s = \"机器学习是计算机系统执行特定任务\""
   ]
  },
  {
   "cell_type": "code",
   "execution_count": 18,
   "id": "72dcd167-cec6-4268-a9df-808141d8cb9e",
   "metadata": {},
   "outputs": [
    {
     "data": {
      "text/plain": [
       "['机器', '学习', '是', '计算机系统', '执行', '特定', '任务']"
      ]
     },
     "execution_count": 18,
     "metadata": {},
     "output_type": "execute_result"
    }
   ],
   "source": [
    "jieba.lcut(s)\n",
    "#精确模式：无冗余————没有重复"
   ]
  },
  {
   "cell_type": "code",
   "execution_count": 17,
   "id": "55e38118-eede-40ef-bb39-a37aa0e20f28",
   "metadata": {},
   "outputs": [
    {
     "data": {
      "text/plain": [
       "['机器',\n",
       " '学习',\n",
       " '是',\n",
       " '计算',\n",
       " '计算机',\n",
       " '计算机系',\n",
       " '计算机系统',\n",
       " '算机',\n",
       " '机系统',\n",
       " '系统',\n",
       " '执行',\n",
       " '特定',\n",
       " '任务']"
      ]
     },
     "execution_count": 17,
     "metadata": {},
     "output_type": "execute_result"
    }
   ],
   "source": [
    "jieba.lcut(s,cut_all = True)\n",
    "#全模式：有冗余————有重复（大）"
   ]
  },
  {
   "cell_type": "code",
   "execution_count": 19,
   "id": "374de0d7-9444-46e1-9a13-36aa5d3c22b1",
   "metadata": {},
   "outputs": [
    {
     "data": {
      "text/plain": [
       "['机器', '学习', '是', '计算', '算机', '系统', '计算机', '机系统', '计算机系统', '执行', '特定', '任务']"
      ]
     },
     "execution_count": 19,
     "metadata": {},
     "output_type": "execute_result"
    }
   ],
   "source": [
    "jieba.lcut_for_search(s)\n",
    "#搜索引擎模式：有冗余————有重复（小）"
   ]
  }
 ],
 "metadata": {
  "kernelspec": {
   "display_name": "Python 3 (ipykernel)",
   "language": "python",
   "name": "python3"
  },
  "language_info": {
   "codemirror_mode": {
    "name": "ipython",
    "version": 3
   },
   "file_extension": ".py",
   "mimetype": "text/x-python",
   "name": "python",
   "nbconvert_exporter": "python",
   "pygments_lexer": "ipython3",
   "version": "3.8.5"
  }
 },
 "nbformat": 4,
 "nbformat_minor": 5
}
