{
 "cells": [
  {
   "cell_type": "code",
   "execution_count": null,
   "id": "72f99712-fbab-4efa-8bfd-11a9fd585c02",
   "metadata": {},
   "outputs": [],
   "source": [
    "#time库"
   ]
  },
  {
   "cell_type": "code",
   "execution_count": 1,
   "id": "31f8834d-aa76-45fb-bdf2-a3b815a3ab51",
   "metadata": {},
   "outputs": [],
   "source": [
    "import time"
   ]
  },
  {
   "cell_type": "code",
   "execution_count": 2,
   "id": "6ce9bb96-1600-4f06-9f55-267a04cfa3f1",
   "metadata": {},
   "outputs": [
    {
     "data": {
      "text/plain": [
       "1664088622.1345065"
      ]
     },
     "execution_count": 2,
     "metadata": {},
     "output_type": "execute_result"
    }
   ],
   "source": [
    "time.time()\n",
    "#返回计算机当前内部时间（浮点数类型），从1970年1月1日0点为起点开始计时（计算机时间戳）"
   ]
  },
  {
   "cell_type": "code",
   "execution_count": 3,
   "id": "da78893e-4e8a-4895-8cec-f315fe54d26d",
   "metadata": {},
   "outputs": [
    {
     "data": {
      "text/plain": [
       "'Sun Sep 25 14:50:24 2022'"
      ]
     },
     "execution_count": 3,
     "metadata": {},
     "output_type": "execute_result"
    }
   ],
   "source": [
    "time.ctime()\n",
    "#不传入参数，则返回当前时间并以易读方式表示"
   ]
  },
  {
   "cell_type": "code",
   "execution_count": 12,
   "id": "25f5dbc5-8eed-4b78-8608-4139a8fbae4c",
   "metadata": {},
   "outputs": [
    {
     "data": {
      "text/plain": [
       "'Thu Jan  1 08:00:00 1970'"
      ]
     },
     "execution_count": 12,
     "metadata": {},
     "output_type": "execute_result"
    }
   ],
   "source": [
    "time.ctime(0)\n",
    "#传入一个数字，返回其所表示时间，并以易读方式表示"
   ]
  },
  {
   "cell_type": "code",
   "execution_count": 13,
   "id": "1a730df9-8fad-483a-8819-e0cf671984a9",
   "metadata": {},
   "outputs": [
    {
     "data": {
      "text/plain": [
       "time.struct_time(tm_year=2022, tm_mon=3, tm_mday=23, tm_hour=8, tm_min=31, tm_sec=47, tm_wday=2, tm_yday=82, tm_isdst=0)"
      ]
     },
     "execution_count": 13,
     "metadata": {},
     "output_type": "execute_result"
    }
   ],
   "source": [
    "time.gmtime()\n",
    "#返回当前时间，并以计算机可处理的形式表示"
   ]
  },
  {
   "cell_type": "code",
   "execution_count": 15,
   "id": "865e0eb4-1a2f-4261-8b87-bea453db5e22",
   "metadata": {},
   "outputs": [
    {
     "data": {
      "text/plain": [
       "'2022-03-23,Wednesday-March,08-35-32,AM'"
      ]
     },
     "execution_count": 15,
     "metadata": {},
     "output_type": "execute_result"
    }
   ],
   "source": [
    "time.strftime(\"%Y-%m-%d,%A-%B,%H-%M-%S,%p\",time.gmtime())\n",
    "#time.strftime(\"时间格式的字符串\"，计算机可处理的时间形式)"
   ]
  },
  {
   "cell_type": "code",
   "execution_count": 16,
   "id": "0bbe0a9e-73d2-440a-8921-a6dc7cb78019",
   "metadata": {},
   "outputs": [
    {
     "data": {
      "text/plain": [
       "time.struct_time(tm_year=2022, tm_mon=3, tm_mday=23, tm_hour=0, tm_min=0, tm_sec=0, tm_wday=2, tm_yday=82, tm_isdst=-1)"
      ]
     },
     "execution_count": 16,
     "metadata": {},
     "output_type": "execute_result"
    }
   ],
   "source": [
    "time1 = \"2022-03-23,Wed-Mar\"\n",
    "time_string = \"%Y-%m-%d,%a-%b\"\n",
    "time.strptime(time1,time_string)\n",
    "#time.strptime(\"格式时间\"，\"格式\")，返回计算机可处理的时间形式"
   ]
  },
  {
   "cell_type": "code",
   "execution_count": 6,
   "id": "b33fedd2-b2d0-4ef4-a60d-594fe473a0b9",
   "metadata": {},
   "outputs": [
    {
     "data": {
      "text/plain": [
       "'\\n%Y-%m-%d 年-月-日\\n%A 星期名称 %a 星期简称\\n%B 月份名称 %b 月份简称\\n%H 24小时制 %I 12小时制\\n%M 分 %S 秒 %p 上下午 am/pm\\n'"
      ]
     },
     "execution_count": 6,
     "metadata": {},
     "output_type": "execute_result"
    }
   ],
   "source": [
    "'''\n",
    "%Y-%m-%d 年-月-日\n",
    "%A 星期名称 %a 星期简称\n",
    "%B 月份名称 %b 月份简称\n",
    "%H 24小时制 %I 12小时制\n",
    "%M 分 %S 秒 %p 上下午 am/pm\n",
    "'''"
   ]
  },
  {
   "cell_type": "code",
   "execution_count": null,
   "id": "4820f6b2-f9ac-4180-bee7-3f6410edd5b6",
   "metadata": {},
   "outputs": [],
   "source": []
  }
 ],
 "metadata": {
  "kernelspec": {
   "display_name": "Python 3.7.13 ('Hanlp')",
   "language": "python",
   "name": "python3"
  },
  "language_info": {
   "codemirror_mode": {
    "name": "ipython",
    "version": 3
   },
   "file_extension": ".py",
   "mimetype": "text/x-python",
   "name": "python",
   "nbconvert_exporter": "python",
   "pygments_lexer": "ipython3",
   "version": "3.7.13"
  },
  "vscode": {
   "interpreter": {
    "hash": "9853e96883597b8ee9d91daa14dfc43df25cdd868b8171bc886425c7701b017a"
   }
  }
 },
 "nbformat": 4,
 "nbformat_minor": 5
}
