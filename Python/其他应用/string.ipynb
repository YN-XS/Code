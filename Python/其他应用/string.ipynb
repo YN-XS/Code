{
 "cells": [
  {
   "cell_type": "code",
   "execution_count": null,
   "id": "33057ee4-8b42-481b-a502-cc71acc95bd1",
   "metadata": {},
   "outputs": [],
   "source": [
    "#字符串（string）"
   ]
  },
  {
   "cell_type": "code",
   "execution_count": 14,
   "id": "969610d7-198a-4f31-8b0a-01927bc148db",
   "metadata": {},
   "outputs": [
    {
     "name": "stdout",
     "output_type": "stream",
     "text": [
      "1 2 3\n",
      "1,2,3\n",
      "1 2 3,"
     ]
    }
   ],
   "source": [
    "print(1,2,3)\n",
    "print(1,2,3,sep = \",\")\n",
    "print(1,2,3,end = \",\")"
   ]
  },
  {
   "cell_type": "code",
   "execution_count": 13,
   "id": "ab052457-e9d2-478e-a163-fbc32df83468",
   "metadata": {},
   "outputs": [
    {
     "name": "stdout",
     "output_type": "stream",
     "text": [
      "1\n",
      "2\n",
      "3\n",
      "1 2 3\n"
     ]
    }
   ],
   "source": [
    "print(1,2,3,sep = \"\\n\")\n",
    "print(1,2,3,end = \"\\n\")"
   ]
  },
  {
   "cell_type": "code",
   "execution_count": 2,
   "id": "f61f1a4e-1ed0-4767-977c-3053ad66f9d9",
   "metadata": {},
   "outputs": [],
   "source": [
    "s = \"人工智能、机器学习和深度学习之间的区别和联系\""
   ]
  },
  {
   "cell_type": "code",
   "execution_count": 7,
   "id": "ced47ba1-56ab-4842-b592-e6838e71fa7c",
   "metadata": {},
   "outputs": [
    {
     "name": "stdout",
     "output_type": "stream",
     "text": [
      "人\n",
      "人工智能\n",
      "系区习和机工\n"
     ]
    }
   ],
   "source": [
    "a = s[0]\n",
    "b = s[0:4]\n",
    "c = s[::-4]\n",
    "print(a,b,c,sep = '\\n)\n",
    "#字符串的索引以及切片"
   ]
  },
  {
   "cell_type": "code",
   "execution_count": 10,
   "id": "826c76d5-ee0f-4599-b5b0-e6e6df9a4bdb",
   "metadata": {},
   "outputs": [
    {
     "name": "stdout",
     "output_type": "stream",
     "text": [
      "人人工智能系区习和机工\n",
      "\n",
      "人工智能人工智能人工智能人工智能\n",
      "\n",
      "True\n"
     ]
    }
   ],
   "source": [
    "s1 = a+b+c\n",
    "s2 = b*4\n",
    "s3 = a in b\n",
    "print(s1,s2,s3,sep = \"\\n\\n\")"
   ]
  },
  {
   "cell_type": "code",
   "execution_count": null,
   "id": "19a2ef2a-5ce0-4872-b412-d66f45f82c72",
   "metadata": {},
   "outputs": [],
   "source": [
    "#字符串处理函数"
   ]
  },
  {
   "cell_type": "code",
   "execution_count": 2,
   "id": "73be27e1-2059-46a7-9753-2504536dc0db",
   "metadata": {},
   "outputs": [],
   "source": [
    "s1 = \"hello world!\""
   ]
  },
  {
   "cell_type": "code",
   "execution_count": 3,
   "id": "efcc232d-637e-4381-9ce8-0be3790745d8",
   "metadata": {},
   "outputs": [
    {
     "data": {
      "text/plain": [
       "'Hello world!'"
      ]
     },
     "execution_count": 3,
     "metadata": {},
     "output_type": "execute_result"
    }
   ],
   "source": [
    "s1.capitalize()\n",
    "'首字母大写'"
   ]
  },
  {
   "cell_type": "code",
   "execution_count": 4,
   "id": "613a681f-422e-465f-841e-3bd1f86661d7",
   "metadata": {},
   "outputs": [
    {
     "data": {
      "text/plain": [
       "'Hello World!'"
      ]
     },
     "execution_count": 4,
     "metadata": {},
     "output_type": "execute_result"
    }
   ],
   "source": [
    "s1.title()\n",
    "'每个单词的首字母大写'"
   ]
  },
  {
   "cell_type": "code",
   "execution_count": 5,
   "id": "f7cb082d-249f-4388-aff0-159a548b028c",
   "metadata": {},
   "outputs": [
    {
     "data": {
      "text/plain": [
       "'HELLO WORLD!'"
      ]
     },
     "execution_count": 5,
     "metadata": {},
     "output_type": "execute_result"
    }
   ],
   "source": [
    "s1.upper()"
   ]
  },
  {
   "cell_type": "code",
   "execution_count": 6,
   "id": "26b7a4c3-bd73-468d-9054-07dff956a7a0",
   "metadata": {},
   "outputs": [
    {
     "data": {
      "text/plain": [
       "'hello world!'"
      ]
     },
     "execution_count": 6,
     "metadata": {},
     "output_type": "execute_result"
    }
   ],
   "source": [
    "s1.lower()"
   ]
  },
  {
   "cell_type": "code",
   "execution_count": 3,
   "id": "825817cd-c6e0-46dc-9bd8-f698e7d5df80",
   "metadata": {},
   "outputs": [
    {
     "name": "stdout",
     "output_type": "stream",
     "text": [
      "[1, 2, 3, 3, 3]\n",
      "(1, 2, 3)\n",
      "{1: '姜', 2: '子', 3: '俊'}\n",
      "[1, 2, 3, 3, 3]\n",
      "(1, 2, 3)\n",
      "{1: '姜', 2: '子', 3: '俊'}\n",
      "[\"{1: '姜'\", \" 2: '子'\", \" 3: '俊'}\"]\n",
      "[1: 2: 3: 3: 3]\n",
      "1, 2, 3, 3, 3\n",
      "****[1, 2, 3, 3, 3]****\n",
      "[@1@,@ @2@,@ @3@,@ @3@,@ @3@]\n",
      "3\n"
     ]
    }
   ],
   "source": [
    "list1 = list((1,2,3,3,3))\n",
    "tuple1 = tuple((1,2,3))\n",
    "dict1 = dict(((1,\"姜\"),(2,\"子\"),(3,\"俊\")))\n",
    "print(list1,tuple1,dict1,sep = \"\\n\")\n",
    "\n",
    "str1 = str(list1)\n",
    "str2 = str(tuple1)\n",
    "str3 = str(dict1)\n",
    "print(str1,str2,str3,sep = \"\\n\")\n",
    "\n",
    "ls1 = str3.split(',')\n",
    "'以某字符为分隔符，形成一个列表'\n",
    "ls2 = str1.replace(\",\",\":\")\n",
    "'替换replace(旧，新)'\n",
    "ls3 = str1.strip(\"[]\")\n",
    "'去除字符首尾的字符，注意是只去除首部和尾部的该字符'\n",
    "ls4 = str1.center(23,\"*\")\n",
    "'居中(宽度,\"填充符\")'\n",
    "ls5 = \"@\".join(str1)\n",
    "'!!注意是将某字符加入到一个可迭代对象的每一个元素必须为字符串类型元素（除了最后一个元素）后面'\n",
    "'!!相当于将某个某些字符串用特定的字符来连接起来所以尾部没有'\n",
    "'而且str.join()是把str加入到()中的对象，从前面传到后面！！'\n",
    "cs = str1.count(\"3\")\n",
    "print(ls1,ls2,ls3,ls4,ls5,cs,sep = \"\\n\")"
   ]
  },
  {
   "cell_type": "code",
   "execution_count": 4,
   "id": "e5a0f246-2045-4d81-b0ab-2e0ee4c85e1b",
   "metadata": {},
   "outputs": [
    {
     "name": "stdout",
     "output_type": "stream",
     "text": [
      "1*2*3\n",
      "1*2*3*4*5\n",
      "3*1*2*5\n"
     ]
    }
   ],
   "source": [
    "a1 = \"*\".join([\"1\",\"2\",\"3\"])\n",
    "a2 = \"*\".join(\"12345\")\n",
    "a3 = \"*\".join({\"1\",\"2\",\"3\",\"3\",\"5\"})\n",
    "'因为集合元素具有无序性和去重的特性'\n",
    "print(a1,a2,a3,sep = \"\\n\")"
   ]
  },
  {
   "cell_type": "code",
   "execution_count": null,
   "id": "cef6ffb0-baf0-4a13-8429-3c966837f215",
   "metadata": {},
   "outputs": [],
   "source": []
  }
 ],
 "metadata": {
  "kernelspec": {
   "display_name": "Python 3 (ipykernel)",
   "language": "python",
   "name": "python3"
  },
  "language_info": {
   "codemirror_mode": {
    "name": "ipython",
    "version": 3
   },
   "file_extension": ".py",
   "mimetype": "text/x-python",
   "name": "python",
   "nbconvert_exporter": "python",
   "pygments_lexer": "ipython3",
   "version": "3.8.5"
  }
 },
 "nbformat": 4,
 "nbformat_minor": 5
}
