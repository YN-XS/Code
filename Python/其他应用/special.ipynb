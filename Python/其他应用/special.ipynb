{
 "cells": [
  {
   "cell_type": "code",
   "execution_count": null,
   "id": "f226d651-8c2e-4d1d-9bbf-2c13fc3ba57d",
   "metadata": {},
   "outputs": [
    {
     "name": "stdout",
     "output_type": "stream",
     "text": [
      "10\n",
      "20\n",
      "30\n",
      "40\n",
      "50\n"
     ]
    }
   ],
   "source": [
    "a = range(10,120,10)\n",
    "x = iter(a)\n",
    "c = next(x)\n",
    "d = next(x)\n",
    "print(c)\n",
    "print(d)\n",
    "for i in range(3):\n",
    "    print(next(x))"
   ]
  },
  {
   "cell_type": "code",
   "execution_count": 9,
   "id": "f6a328f7-0d0e-4bc9-ac55-756242d39ba7",
   "metadata": {},
   "outputs": [],
   "source": [
    "x = [1,2,3,4]\n",
    "y = ['a','b','c','d']"
   ]
  },
  {
   "cell_type": "code",
   "execution_count": 10,
   "id": "37a5c5a6-77fc-43a5-9b71-5789abea9737",
   "metadata": {},
   "outputs": [
    {
     "name": "stdout",
     "output_type": "stream",
     "text": [
      "<zip object at 0x00000255A1922800>\n"
     ]
    }
   ],
   "source": [
    "print(zip(x,y))"
   ]
  },
  {
   "cell_type": "code",
   "execution_count": 3,
   "id": "20ea6eda-29c6-45a2-a9c7-bfd4a9341db3",
   "metadata": {},
   "outputs": [
    {
     "name": "stdout",
     "output_type": "stream",
     "text": [
      "<zip object at 0x00000255A18F0280>\n"
     ]
    }
   ],
   "source": [
    "print(str(zip(x,y)))"
   ]
  },
  {
   "cell_type": "code",
   "execution_count": 11,
   "id": "9081f2ec-a594-49a4-b86f-6935ef7a7f1d",
   "metadata": {},
   "outputs": [
    {
     "name": "stdout",
     "output_type": "stream",
     "text": [
      "{(4, 'd'), (1, 'a'), (2, 'b'), (3, 'c')}\n"
     ]
    }
   ],
   "source": [
    "print(set(zip(x,y)))"
   ]
  },
  {
   "cell_type": "code",
   "execution_count": 5,
   "id": "b4a8101d-8896-467d-aac2-f29230cbda35",
   "metadata": {},
   "outputs": [
    {
     "name": "stdout",
     "output_type": "stream",
     "text": [
      "[(1, 'a'), (2, 'b'), (3, 'c'), (4, 'd')]\n"
     ]
    }
   ],
   "source": [
    "print(list(zip(x,y)))"
   ]
  },
  {
   "cell_type": "code",
   "execution_count": 6,
   "id": "a05b1078-9185-437d-9dfa-1ebb1a236df5",
   "metadata": {},
   "outputs": [
    {
     "name": "stdout",
     "output_type": "stream",
     "text": [
      "((1, 'a'), (2, 'b'), (3, 'c'), (4, 'd'))\n"
     ]
    }
   ],
   "source": [
    "print(tuple(zip(x,y)))"
   ]
  },
  {
   "cell_type": "code",
   "execution_count": 7,
   "id": "ca5c9c65-b665-4c80-9951-f80f2f94a6af",
   "metadata": {},
   "outputs": [
    {
     "name": "stdout",
     "output_type": "stream",
     "text": [
      "{1: 'a', 2: 'b', 3: 'c', 4: 'd'}\n"
     ]
    }
   ],
   "source": [
    "print(dict(zip(x,y)))"
   ]
  }
 ],
 "metadata": {
  "kernelspec": {
   "display_name": "Python 3 (ipykernel)",
   "language": "python",
   "name": "python3"
  },
  "language_info": {
   "codemirror_mode": {
    "name": "ipython",
    "version": 3
   },
   "file_extension": ".py",
   "mimetype": "text/x-python",
   "name": "python",
   "nbconvert_exporter": "python",
   "pygments_lexer": "ipython3",
   "version": "3.8.5"
  }
 },
 "nbformat": 4,
 "nbformat_minor": 5
}
